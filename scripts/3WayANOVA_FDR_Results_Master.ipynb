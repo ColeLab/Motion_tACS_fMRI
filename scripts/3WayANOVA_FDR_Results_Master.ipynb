{
 "cells": [
  {
   "cell_type": "markdown",
   "metadata": {},
   "source": [
    "# Results from ANOVA_4way_gbcanalysis.m\n",
    "## Run FDR/multiple correction analyses on results, given MATLAB's mafdr is inaccurate\n",
    "\n",
    "#### Taku Ito\n",
    "#### 5/10/16"
   ]
  },
  {
   "cell_type": "markdown",
   "metadata": {},
   "source": [
    "### Network-level FDR correction on weighted degree centrality results (for each network)"
   ]
  },
  {
   "cell_type": "code",
   "execution_count": 1,
   "metadata": {
    "collapsed": true
   },
   "outputs": [],
   "source": [
    "import numpy as np\n",
    "import statsmodels.sandbox.stats.multicomp as mc\n"
   ]
  },
  {
   "cell_type": "code",
   "execution_count": 30,
   "metadata": {
    "collapsed": true
   },
   "outputs": [],
   "source": [
    "# Import network affiliations\n",
    "networks = np.loadtxt('Power11NewCoorOrder.txt')[:,4]"
   ]
  },
  {
   "cell_type": "markdown",
   "metadata": {},
   "source": [
    "## FDR corrected p and q values for network-level weighted degree centrality"
   ]
  },
  {
   "cell_type": "code",
   "execution_count": 41,
   "metadata": {
    "collapsed": false
   },
   "outputs": [
    {
     "name": "stdout",
     "output_type": "stream",
     "text": [
      "Network 0 \t| p = 0.89656 | q = nan\n",
      "Network 1 \t| p = nan | q = nan\n",
      "Network 2 \t| p = nan | q = nan\n",
      "Network 3 \t| p = 0.56624 | q = nan\n",
      "Network 4 \t| p = 0.75039 | q = nan\n",
      "Network 5 \t| p = 0.16186 | q = nan\n",
      "Network 6 \t| p = nan | q = nan\n",
      "Network 7 \t| p = 0.17159 | q = nan\n",
      "Network 8 \t| p = 0.61026 | q = nan\n",
      "Network 9 \t| p = 0.22108 | q = nan\n",
      "Network 10 \t| p = 0.76269 | q = nan\n",
      "Network 11 \t| p = nan | q = nan\n",
      "Network 12 \t| p = 0.0063954 | q = nan\n",
      "Network 13 \t| p = 0.78123 | q = nan\n"
     ]
    }
   ],
   "source": [
    "# Import data\n",
    "filename1 = 'gbc_interactionP_networks.csv'\n",
    "p_network = np.loadtxt(filename1, delimiter=',')\n",
    "q_network = mc.fdrcorrection0(p_network)[1]\n",
    "for i in range(len(p_network)):\n",
    "    \n",
    "    print 'Network', i, '\\t| p =', p_network[i], '| q =', q_network[i]"
   ]
  },
  {
   "cell_type": "markdown",
   "metadata": {},
   "source": [
    "## FDR correct p and q values for all regions"
   ]
  },
  {
   "cell_type": "code",
   "execution_count": 43,
   "metadata": {
    "collapsed": false
   },
   "outputs": [
    {
     "name": "stdout",
     "output_type": "stream",
     "text": [
      "Threshold: q < 0.05\n",
      "Threshold: p < 0.01\n",
      "ROI 130 \t| p = 0.0091539 | Network: 5.0\n",
      "ROI 147 \t| p = 0.0021808 | Network: 7.0\n",
      "ROI 258 \t| p = 0.0012018 | Network: 12.0\n",
      "ROI 262 \t| p = 0.0 | Network: 12.0\n"
     ]
    }
   ],
   "source": [
    "# Import data\n",
    "filename2 = 'gbc_interactionP_266rois.csv'\n",
    "p_rois = np.loadtxt(filename2, delimiter=',')\n",
    "q_rois = mc.fdrcorrection0(p_rois)[1]\n",
    "print 'Threshold: q < 0.05'\n",
    "for i in range(len(p_rois)):\n",
    "    if q_rois[i] < 0.05:\n",
    "        print 'Network', i, '\\t| p =', p_rois[i], '| q =', q_rois[i]\n",
    "print 'Threshold: p < 0.01'\n",
    "for i in range(len(p_rois)):\n",
    "    if p_rois[i] < 0.01:\n",
    "        if i == 256: continue # This is the region that overlaps with rMT\n",
    "        print 'ROI', i+1, '\\t| p =', p_rois[i], '| Network:', networks[i]\n"
   ]
  }
 ],
 "metadata": {
  "kernelspec": {
   "display_name": "Python 2",
   "language": "python",
   "name": "python2"
  },
  "language_info": {
   "codemirror_mode": {
    "name": "ipython",
    "version": 2
   },
   "file_extension": ".py",
   "mimetype": "text/x-python",
   "name": "python",
   "nbconvert_exporter": "python",
   "pygments_lexer": "ipython2",
   "version": "2.7.11"
  }
 },
 "nbformat": 4,
 "nbformat_minor": 0
}
