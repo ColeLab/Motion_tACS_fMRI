{
 "cells": [
  {
   "cell_type": "markdown",
   "metadata": {},
   "source": [
    "# Stimulation X Run ANOVA\n",
    "#### Taku Ito\n",
    "#### 11/6/15\n",
    "\n",
    "Description:\n",
    "Ran a whole-brain correlation map 3-way ANOVA with 2 fixed-effects (stimulation and runs) with 1 random-effects (subjects). lMT was the seed region.\n"
   ]
  },
  {
   "cell_type": "code",
   "execution_count": 27,
   "metadata": {
    "collapsed": true
   },
   "outputs": [],
   "source": [
    "import numpy as np\n",
    "import scipy.stats as stats\n",
    "%matplotlib inline\n",
    "import matplotlib.pyplot as plt"
   ]
  },
  {
   "cell_type": "code",
   "execution_count": 50,
   "metadata": {
    "collapsed": false
   },
   "outputs": [],
   "source": [
    "# Import 4 timeseries for each subject (4 conditions)\n",
    "subjects = ['038','069','083','141','144','170','172','173','177','178']\n",
    "\n",
    "\n",
    "# Instantiate dict for cluster data\n",
    "clustdata = {}\n",
    "# Instantiate dict for seed data\n",
    "seeddat = {}\n",
    "basedir = '/projects/Collaborations/KrekelbergCollaboration/MotionAdaptation_tACS_FC/data/'\n",
    "datadir = basedir + 'results/4WayANOVAMats_STIMxHEMIxTIMExSUBJ/STIMxTIMExSUBJANOVA_wholebrain/interactionEffect_sigClust_timeseries/'\n",
    "\n",
    "correlations = {}\n",
    "# Create averages matrix to plot; let rows be stimulation, columns be run\n",
    "corravg = np.zeros(shape=(2,2))\n",
    "# Compute SEM for plots\n",
    "sem = {}\n",
    "for i in range(1,5): sem[i] = []\n",
    "\n",
    "# load timeseries data for seed (lMT) and cluster\n",
    "for subj in subjects:\n",
    "    subjdir = basedir + subj + '/fMRI/tacs_motionadaptationAnalysis/'\n",
    "    \n",
    "    # Load cluster timeseries\n",
    "    clustdata[subj] = {}\n",
    "    clustdata[subj][1] = np.loadtxt(datadir + subj + '_nostimXrun1_stimXtime_interactioneffect_clust.1D')\n",
    "    clustdata[subj][2] = np.loadtxt(datadir + subj + '_nostimXrun2_stimXtime_interactioneffect_clust.1D')\n",
    "    clustdata[subj][3] = np.loadtxt(datadir + subj + '_stimXrun1_stimXtime_interactioneffect_clust.1D')\n",
    "    clustdata[subj][4] = np.loadtxt(datadir + subj + '_stimXrun2_stimXtime_interactioneffect_clust.1D')\n",
    "    \n",
    "    # Load seed (lMT) timeseries\n",
    "    seeddat[subj] = {}\n",
    "    tmpstimoff = np.loadtxt(subjdir + 'nostim_leftAreaMT_v2.1D')\n",
    "    tmpstimon = np.loadtxt(subjdir + 'stim_leftAreaMT_v2.1D')\n",
    "    seeddat[subj][1] = tmpstimoff[0:len(clustdata[subj][1])]\n",
    "    seeddat[subj][2] = tmpstimoff[len(clustdata[subj][1]):]\n",
    "    seeddat[subj][3] = tmpstimon[0:len(clustdata[subj][3])]\n",
    "    seeddat[subj][4] = tmpstimon[len(clustdata[subj][3]):]\n",
    "    \n",
    "    # Compute correlations\n",
    "    correlations[subj] = {}\n",
    "    correlations[subj][1] = stats.pearsonr(seeddat[subj][1], clustdata[subj][1])[0]\n",
    "    correlations[subj][2] = stats.pearsonr(seeddat[subj][2], clustdata[subj][2])[0]\n",
    "    correlations[subj][3] = stats.pearsonr(seeddat[subj][3], clustdata[subj][3])[0]\n",
    "    correlations[subj][4] = stats.pearsonr(seeddat[subj][4], clustdata[subj][4])[0]\n",
    "    \n",
    "    corravg[0,0] += correlations[subj][1] # no stim run 1\n",
    "    corravg[0,1] += correlations[subj][2] # no stim run 2\n",
    "    corravg[1,0] += correlations[subj][3] # stim run 1\n",
    "    corravg[1,1] += correlations[subj][4] # stim run 4\n",
    "    \n",
    "    # Get array of correlations to compute SEM\n",
    "    sem[1].append(correlations[subj][1])\n",
    "    sem[2].append(correlations[subj][2])\n",
    "    sem[3].append(correlations[subj][3])\n",
    "    sem[4].append(correlations[subj][4])\n",
    "    \n",
    "# Compute average\n",
    "corravg = corravg/len(subjects)\n",
    "# compute SEM\n",
    "ste = np.zeros(shape=(2,2))\n",
    "ste[0,0] = np.std(sem[1])/np.sqrt(len(subjects))\n",
    "ste[0,1] = np.std(sem[2])/np.sqrt(len(subjects))\n",
    "ste[1,0] = np.std(sem[3])/np.sqrt(len(subjects))\n",
    "ste[1,1] = np.std(sem[4])/np.sqrt(len(subjects))\n",
    "    \n",
    "    \n",
    "    \n",
    "    \n",
    "    "
   ]
  },
  {
   "cell_type": "code",
   "execution_count": 52,
   "metadata": {
    "collapsed": false
   },
   "outputs": [
    {
     "data": {
      "text/plain": [
       "([<matplotlib.axis.XTick at 0x7f57a599cdd0>,\n",
       "  <matplotlib.axis.XTick at 0x7f57a57d5450>,\n",
       "  <matplotlib.axis.XTick at 0x7f57a5743350>,\n",
       "  <matplotlib.axis.XTick at 0x7f57a5743a50>],\n",
       " <a list of 4 Text xticklabel objects>)"
      ]
     },
     "execution_count": 52,
     "metadata": {},
     "output_type": "execute_result"
    },
    {
     "data": {
      "image/png": "[encoded data removed]",
      "text/plain": [
       "<matplotlib.figure.Figure at 0x7f57a5cae550>"
      ]
     },
     "metadata": {},
     "output_type": "display_data"
    }
   ],
   "source": [
    "plt.errorbar([1,2],corravg[0,:],yerr=ste[0,:])\n",
    "plt.errorbar([1,2],corravg[1,:],yerr=ste[1,:])\n",
    "plt.xticks([0,1,2,3])\n"
   ]
  },
  {
   "cell_type": "code",
   "execution_count": 24,
   "metadata": {
    "collapsed": false
   },
   "outputs": [
    {
     "data": {
      "text/plain": [
       "187"
      ]
     },
     "execution_count": 24,
     "metadata": {},
     "output_type": "execute_result"
    }
   ],
   "source": [
    "seeddat[subj][1].shape[0] + seeddat[subj][2].shape[0]\n",
    "seeddat[subj][1].shape[0]"
   ]
  },
  {
   "cell_type": "code",
   "execution_count": 39,
   "metadata": {
    "collapsed": false
   },
   "outputs": [
    {
     "data": {
      "text/plain": [
       "{'038': {1: -0.28607989094488606,\n",
       "  2: -0.26427826665023668,\n",
       "  3: -0.14423188736702489,\n",
       "  4: -0.49963266789189908},\n",
       " '069': {1: 0.14286023898508893,\n",
       "  2: 0.35665028620464778,\n",
       "  3: 0.29684835413574046,\n",
       "  4: 0.22406300093755718},\n",
       " '083': {1: 0.14702309798424351,\n",
       "  2: 0.31183833756704493,\n",
       "  3: 0.28864748603112134,\n",
       "  4: 0.043872074224903627},\n",
       " '141': {1: -0.062655940059103202,\n",
       "  2: 0.12920213864392541,\n",
       "  3: 0.13933722734549031,\n",
       "  4: 0.019256369123364387},\n",
       " '144': {1: -0.3771234948490666,\n",
       "  2: -0.26933857859933513,\n",
       "  3: -0.2474074973346628,\n",
       "  4: -0.46224260995667704},\n",
       " '170': {1: -0.070994849784982716,\n",
       "  2: 0.21741445100972864,\n",
       "  3: 0.32640961995036905,\n",
       "  4: 0.43611317560355234},\n",
       " '172': {1: 0.43954478258441637,\n",
       "  2: 0.48026613652865174,\n",
       "  3: 0.51397545972289593,\n",
       "  4: 0.2314115403566222},\n",
       " '173': {1: 0.05465210800874562,\n",
       "  2: 0.24703361901739418,\n",
       "  3: 0.1442106436521825,\n",
       "  4: 0.13648001704740731},\n",
       " '177': {1: -0.064773133639089389,\n",
       "  2: -0.17156418793158601,\n",
       "  3: 0.11598552776733788,\n",
       "  4: -0.22429396722813771},\n",
       " '178': {1: -0.011761274644684582,\n",
       "  2: 0.17524064433704561,\n",
       "  3: -0.14838463868073798,\n",
       "  4: -0.15902075435808552}}"
      ]
     },
     "execution_count": 39,
     "metadata": {},
     "output_type": "execute_result"
    }
   ],
   "source": [
    "correlations"
   ]
  }
 ],
 "metadata": {
  "kernelspec": {
   "display_name": "Python 2",
   "language": "python",
   "name": "python2"
  },
  "language_info": {
   "codemirror_mode": {
    "name": "ipython",
    "version": 2
   },
   "file_extension": ".py",
   "mimetype": "text/x-python",
   "name": "python",
   "nbconvert_exporter": "python",
   "pygments_lexer": "ipython2",
   "version": "2.7.9"
  }
 },
 "nbformat": 4,
 "nbformat_minor": 0
}
