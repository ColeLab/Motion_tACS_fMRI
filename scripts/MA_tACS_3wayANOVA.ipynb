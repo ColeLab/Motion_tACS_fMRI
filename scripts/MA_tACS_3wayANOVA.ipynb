{
 "cells": [
  {
   "cell_type": "markdown",
   "metadata": {},
   "source": [
    "# Motion Adaptation tACS Project\n",
    "### Analysis of 3-way interaction - tACS x Hemisphere x Adaptation\n",
    "### Analyses performed on 264 Power set 2 added ROIs (lMT = ROI 265; rMT = ROI 266)\n",
    "\n",
    "Taku Ito\n",
    "4/12/16"
   ]
  },
  {
   "cell_type": "code",
   "execution_count": 4,
   "metadata": {
    "collapsed": false
   },
   "outputs": [
    {
     "name": "stdout",
     "output_type": "stream",
     "text": [
      "[\bWarning: maxNumCompThreads will be removed in a future release. Please remove\n",
      "any instances of this function from your code.]\b \n",
      "[\b> In maxNumCompThreads at 26\n",
      "  In pymat_eval at 31\n",
      "  In matlabserver at 24]\b\n"
     ]
    }
   ],
   "source": [
    "N = maxNumCompThreads(10);\n",
    "basedir = '/projects/Collaborations/KrekelbergCollaboration/MotionAdaptation_tACS_FC/';\n",
    "datadir = [basedir 'data/results/PowerAnalyses/'];\n",
    "subjNums = {'038', '069', '083', '141', '144', '170', '172', '173', ...\n",
    "            '177', '178'};\n",
    "\n",
    "% Load in Power Network Affiliation\n",
    "power11 = importdata('Power11NewCoorOrder.txt');\n",
    "%power11 = power11(:,5);\n",
    "% Load data\n",
    "subj_data = {};\n",
    "subjcount = 1;\n",
    "tacsontimes = {};\n",
    "tacsofftimes = {};\n",
    "opptimes = {};\n",
    "sametimes = {};\n",
    "for subj=subjNums\n",
    "    subjfile = [datadir subj{1} '_266Power_timeseries.csv'];\n",
    "\n",
    "    % Import entire timeseries for subject\n",
    "    subj_data{subjcount} = csvread(subjfile);\n",
    "    \n",
    "    % Import the length of tacs off runs (2 runs total)\n",
    "    tacsonsetfile = [datadir subj{1} '_266Power_timeseries_tacsOff.csv'];\n",
    "    tmp = csvread(tacsonsetfile);\n",
    "    tacsoffset = size(tmp,2); % Obtain length of timeseries only\n",
    "    % Generate stimulus arrays\n",
    "    tacsofftimes{subjcount} = zeros(size(subj_data{subjcount},2),1);\n",
    "    tacsontimes{subjcount} = zeros(size(subj_data{subjcount},2),1);\n",
    "    tacsofftimes{subjcount}(1:tacsoffset) = 1;\n",
    "    tacsontimes{subjcount}((tacsoffset+1):end) = 1;\n",
    "    clear tmp\n",
    "    \n",
    "    % Import convolved stim files for same condition (adapted condition)\n",
    "    stimdir = [basedir 'data/' subj{1} '/sdm/'];\n",
    "    same_tmp = importdata([stimdir 'SameTimes.1D']);\n",
    "    opp_tmp = importdata([stimdir 'OppTimes.1D']);\n",
    "    % Binarize convolved time series to obtain only portions in which HRF activation > 0.5\n",
    "    sametimes{subjcount} = same_tmp > 0.0;\n",
    "    opptimes{subjcount} = opp_tmp > 0.0;\n",
    "    \n",
    "    subjcount = subjcount + 1;\n",
    "end\n"
   ]
  },
  {
   "cell_type": "markdown",
   "metadata": {},
   "source": [
    "#### Break up time series to obtain relevant fc matrices to perform interaction analysis\n",
    "For each subject, organized as a 266 (regions) x 8 (conditions) vector, where the columns are organized as follows:\n",
    "1. lMT | tACS OFF | SAME\n",
    "2. lMT | tACS OFF | OPP\n",
    "3. lMT | tACS ON  | SAME\n",
    "4. lMT | tACS ON  | OPP\n",
    "5. rMT | tACS OFF | SAME\n",
    "6. rMT | tACS OFF | OPP\n",
    "7. rMT | tACS ON  | SAME\n",
    "8. rMT | tACS ON  | OPP"
   ]
  },
  {
   "cell_type": "code",
   "execution_count": 5,
   "metadata": {
    "collapsed": false
   },
   "outputs": [],
   "source": [
    "% Organize matrices\n",
    "fc_vectors = zeros(8,10,266);\n",
    "\n",
    "for subj=1:length(subjNums)\n",
    "    \n",
    "    % tACS OFF | SAME condition\n",
    "    tacsoff_same = sametimes{subj}.*tacsofftimes{subj};\n",
    "    ind = find(tacsoff_same);\n",
    "    fc = corrcoef(subj_data{subj}(:,ind)');\n",
    "    fc_vectors(1,subj,:) = fc(265,:); % left MT connectivity\n",
    "    fc_vectors(5,subj,:) = fc(266,:); % right MT connectivity\n",
    "    \n",
    "    % tACS OFF | OPP condition\n",
    "    tacsoff_opp = opptimes{subj}.*tacsofftimes{subj};\n",
    "    ind = find(tacsoff_opp);\n",
    "    fc = corrcoef(subj_data{subj}(:,ind)');\n",
    "    fc_vectors(2,subj,:) = fc(265,:); % left MT connectivity\n",
    "    fc_vectors(6, subj,:) = fc(266,:); % right MT connectivity\n",
    "    \n",
    "    % tACS ON | SAME\n",
    "    tacson_same = sametimes{subj}.*tacsontimes{subj};\n",
    "    ind = find(tacson_same);\n",
    "    fc = corrcoef(subj_data{subj}(:,ind)');\n",
    "    fc_vectors(3,subj,:) = fc(265,:); % left MT connectivity\n",
    "    fc_vectors(7,subj,:) = fc(266,:); % right MT connectivity\n",
    "    \n",
    "    % tACS ON | OPP condition\n",
    "    tacson_opp = opptimes{subj}.*tacsontimes{subj};\n",
    "    ind = find(tacson_opp);\n",
    "    fc = corrcoef(subj_data{subj}(:,ind)');\n",
    "    fc_vectors(4,subj,:) = fc(265,:); % left MT connectivity\n",
    "    fc_vectors(8,subj,:) = fc(266,:);\n",
    "end"
   ]
  },
  {
   "cell_type": "markdown",
   "metadata": {},
   "source": [
    "#### Run 4-way ANOVA, with 3 fixed effects, 1 random effects"
   ]
  },
  {
   "cell_type": "code",
   "execution_count": 6,
   "metadata": {
    "collapsed": false
   },
   "outputs": [],
   "source": [
    "% Define group names\n",
    "adapt = {'same';'opp';'same';'opp';'same';'opp';'same';'opp';};\n",
    "adapt = repmat(adapt,10,1);\n",
    "tacs = {'tacs_off';'tacs_off'; 'tacs_on'; 'tacs_on';'tacs_off';'tacs_off'; 'tacs_on'; 'tacs_on';};\n",
    "tacs = repmat(tacs,10,1);\n",
    "hemi = {'left';'left';'left';'left';'right';'right';'right';'right'};\n",
    "hemi = repmat(hemi,10,1);\n",
    "subjs = reshape(repmat(1:10',8,1),[80,1]);\n",
    "ps = cell(266,1);\n",
    "interactionF = zeros(266,1);\n",
    "interactionP = zeros(266,1);\n",
    "for roi=1:266\n",
    "    indata = reshape(fc_vectors(:,:,roi),[80,1]);\n",
    "    [p,tbl] = anovan(indata,{adapt,tacs,hemi,subjs}, 'model', 'full','random',[4], 'varnames', {'adapt','tacs','hemi','subjs'});\n",
    "    interactionF(roi) = tbl{12,6};\n",
    "    interactionP(roi) = tbl{12,7};\n",
    "end"
   ]
  },
  {
   "cell_type": "code",
   "execution_count": 7,
   "metadata": {
    "collapsed": false
   },
   "outputs": [
    {
     "name": "stdout",
     "output_type": "stream",
     "text": [
      "ROIs with q < 0.1:\n"
     ]
    }
   ],
   "source": [
    "[fdr, q] = mafdr(interactionP);\n",
    "% Identify q-values with < 0.1 \n",
    "q_bin = q < 0.1;\n",
    "ind = find(q_bin);\n",
    "disp('ROIs with q < 0.1:')\n",
    "for i=1:length(ind)\n",
    "    disp(['ROI ' num2str(ind(i)) ' with q = ' num2str(q(ind(i)))])\n",
    "end"
   ]
  },
  {
   "cell_type": "code",
   "execution_count": 8,
   "metadata": {
    "collapsed": false
   },
   "outputs": [
    {
     "name": "stdout",
     "output_type": "stream",
     "text": [
      "ans =\n",
      "\n",
      "    0.0462\n",
      "    0.0178\n",
      "    0.0462\n",
      "    0.0202\n",
      "    0.0275\n",
      "    0.0109\n",
      "    0.0312\n",
      "    0.0171\n",
      "    0.0477\n",
      "    0.0222\n",
      "    0.0050\n",
      "    0.0100\n",
      "    0.0029\n",
      "    0.0179\n",
      "    0.0288\n",
      "    0.0070\n",
      "    0.0059\n",
      "    0.0109\n",
      "    0.0435\n",
      "    0.0440\n",
      "    0.0462\n",
      "    0.0253\n",
      "    0.0300\n",
      "    0.0482\n",
      "    0.0036\n",
      "    0.0313\n",
      "    0.0232\n"
     ]
    }
   ],
   "source": [
    "tmp = find((interactionP<0.05));\n",
    "interactionP(tmp)"
   ]
  },
  {
   "cell_type": "markdown",
   "metadata": {},
   "source": [
    "#### Results description:\n",
    "No FC ROIs were significantly lower than 0.05 after FDR correction\n",
    "\n",
    "# Next step: Look at 2-way interaction of just Hemisphere and tACS"
   ]
  },
  {
   "cell_type": "code",
   "execution_count": 12,
   "metadata": {
    "collapsed": true
   },
   "outputs": [],
   "source": [
    "% Define group names\n",
    "adapt = {'same';'opp';'same';'opp';'same';'opp';'same';'opp';};\n",
    "adapt = repmat(adapt,10,1);\n",
    "tacs = {'tacs_off';'tacs_off'; 'tacs_on'; 'tacs_on';'tacs_off';'tacs_off'; 'tacs_on'; 'tacs_on';};\n",
    "tacs = repmat(tacs,10,1);\n",
    "hemi = {'left';'left';'left';'left';'right';'right';'right';'right'};\n",
    "hemi = repmat(hemi,10,1);\n",
    "subjs = reshape(repmat(1:10',8,1),[80,1]);\n",
    "ps = cell(266,1);\n",
    "interactionF = zeros(266,1);\n",
    "interactionP = zeros(266,1);\n",
    "for roi=1:266\n",
    "    indata = reshape(fc_vectors(:,:,roi),[80,1]);\n",
    "    [p,tbl] = anovan(indata,{adapt,tacs,hemi,subjs}, 'model', 'full','random',[4], 'varnames', {'adapt','tacs','hemi','subjs'});\n",
    "    interactionF(roi) = tbl{9,6};\n",
    "    interactionP(roi) = tbl{9,7};\n",
    "end"
   ]
  },
  {
   "cell_type": "code",
   "execution_count": 37,
   "metadata": {
    "collapsed": false
   },
   "outputs": [
    {
     "name": "stdout",
     "output_type": "stream",
     "text": [
      "ROIs with q < 0.1:\n",
      "ROI 112 with q = 0.085565\n",
      "ROI 115 with q = 0.04492\n"
     ]
    }
   ],
   "source": [
    "[fdr, q] = mafdr(interactionP);\n",
    "% Identify q-values with < 0.1 \n",
    "q_bin = q < 0.1;\n",
    "ind = find(q_bin);\n",
    "disp('ROIs with q < 0.1:')\n",
    "for i=1:length(ind)\n",
    "    disp(['ROI ' num2str(ind(i)) ' with q = ' num2str(q(ind(i)))])\n",
    "end"
   ]
  },
  {
   "cell_type": "markdown",
   "metadata": {},
   "source": [
    "# Consider the possibility that there are not enough time points for a robust FC estimate given that we're splitting up across both conditions and tACS on v. off\n",
    "\n",
    "### Re-run with a 3-way ANOVA, using 2 fixed effects (hemisphere and tACS) and 1 random effects (subjects)\n",
    "\n",
    "#### Organization of ANOVA input matrix\n",
    "1. lMT | tACS OFF\n",
    "2. lMT | tACS ON \n",
    "3. rMT | tACS OFF\n",
    "4. rMT | tACS ON "
   ]
  },
  {
   "cell_type": "code",
   "execution_count": 2,
   "metadata": {
    "collapsed": true
   },
   "outputs": [],
   "source": [
    "% Organize matrices\n",
    "fc_vectors2x2 = zeros(4,10,266);\n",
    "\n",
    "for subj=1:length(subjNums)\n",
    "    \n",
    "    % tACS OFF\n",
    "    ind = find(tacsofftimes{subj});\n",
    "    fc = corrcoef(subj_data{subj}(:,ind)');\n",
    "    fc_vectors2x2(1,subj,:) = fc(265,:); % left MT connectivity\n",
    "    fc_vectors2x2(3,subj,:) = fc(266,:); % right MT connectivity\n",
    "    \n",
    "    % tACS ON\n",
    "    ind = find(tacsontimes{subj});\n",
    "    fc = corrcoef(subj_data{subj}(:,ind)');\n",
    "    fc_vectors2x2(2,subj,:) = fc(265,:); % left MT connectivity\n",
    "    fc_vectors2x2(4, subj,:) = fc(266,:); % right MT connectivity\n",
    "    \n",
    "end"
   ]
  },
  {
   "cell_type": "markdown",
   "metadata": {},
   "source": [
    "Run ANOVA"
   ]
  },
  {
   "cell_type": "code",
   "execution_count": 3,
   "metadata": {
    "collapsed": false
   },
   "outputs": [],
   "source": [
    "% Define group names\n",
    "tacs = {'tacs_off';'tacs_on'; 'tacs_off';'tacs_on';};\n",
    "tacs = repmat(tacs,10,1);\n",
    "hemi = {'left';'left';'right';'right'};\n",
    "hemi = repmat(hemi,10,1);\n",
    "subjs = reshape(repmat(1:10',4,1),[40,1]);\n",
    "ps = cell(266,1);\n",
    "interactionF2x2 = zeros(266,1);\n",
    "interactionP2x2 = zeros(266,1);\n",
    "for roi=1:266\n",
    "    indata = reshape(fc_vectors2x2(:,:,roi),[40,1]);\n",
    "    [p,tbl] = anovan(indata,{tacs,hemi,subjs}, 'model', 'full','random',[3], 'varnames', {'tacs','hemi','subjs'});\n",
    "    interactionF2x2(roi) = tbl{5,6};\n",
    "    interactionP2x2(roi) = tbl{5,7};\n",
    "end"
   ]
  },
  {
   "cell_type": "markdown",
   "metadata": {},
   "source": [
    "FDR Correction"
   ]
  },
  {
   "cell_type": "code",
   "execution_count": 5,
   "metadata": {
    "collapsed": false
   },
   "outputs": [
    {
     "name": "stdout",
     "output_type": "stream",
     "text": [
      "ROIs with q < 0.1:\n",
      "ROI 115 with q = 0.069713\n"
     ]
    }
   ],
   "source": [
    "[fdr2x2, q2x2] = mafdr(interactionP2x2);\n",
    "% Identify q-values with < 0.1 \n",
    "q_bin2x2 = q2x2 < 0.1;\n",
    "ind = find(q_bin2x2);\n",
    "disp('ROIs with q < 0.1:')\n",
    "for i=1:length(ind)\n",
    "    disp(['ROI ' num2str(ind(i)) ' with q = ' num2str(q2x2(ind(i)))])\n",
    "end"
   ]
  },
  {
   "cell_type": "code",
   "execution_count": 10,
   "metadata": {
    "collapsed": false
   },
   "outputs": [
    {
     "data": {
      "image/png": "[encoded data removed]",
      "text/plain": [
       "<IPython.core.display.Image object>"
      ]
     },
     "metadata": {},
     "output_type": "display_data"
    }
   ],
   "source": [
    "figure\n",
    "lmt = [mean(fc_vectors2x2(1,:,115)), mean(fc_vectors2x2(2,:,115))];\n",
    "rmt = [mean(fc_vectors2x2(3,:,115)), mean(fc_vectors2x2(4,:,115))];\n",
    "hold on\n",
    "plot(lmt)\n",
    "plot(rmt)"
   ]
  },
  {
   "cell_type": "markdown",
   "metadata": {},
   "source": [
    "# Evaluate whether or not GBC is significantly different for hMT+ and see if there's an interaction"
   ]
  },
  {
   "cell_type": "code",
   "execution_count": null,
   "metadata": {
    "collapsed": false
   },
   "outputs": [],
   "source": [
    "fc > 0"
   ]
  },
  {
   "cell_type": "code",
   "execution_count": 7,
   "metadata": {
    "collapsed": false
   },
   "outputs": [],
   "source": [
    "% Organize matrices\n",
    "gbc_vectors = zeros(8,10);\n",
    "%pos_fc = fc > 0;\n",
    "\n",
    "for subj=1:length(subjNums)\n",
    "    \n",
    "    % tACS OFF | SAME condition\n",
    "    tacsoff_same = sametimes{subj}.*tacsofftimes{subj};\n",
    "    ind = find(tacsoff_same);\n",
    "    fc = corrcoef(subj_data{subj}(:,ind)');\n",
    "    gbc_vectors(1,subj) = mean(fc(265,:)); % left MT connectivity\n",
    "    gbc_vectors(5,subj) = mean(fc(266,:)); % right MT connectivity\n",
    "    \n",
    "    % tACS OFF | OPP condition\n",
    "    tacsoff_opp = opptimes{subj}.*tacsofftimes{subj};\n",
    "    ind = find(tacsoff_opp);\n",
    "    fc = corrcoef(subj_data{subj}(:,ind)');\n",
    "    gbc_vectors(2,subj) = mean(fc(265,:)); % left MT connectivity\n",
    "    gbc_vectors(6, subj) = mean(fc(266,:)); % right MT connectivity\n",
    "    \n",
    "    % tACS ON | SAME\n",
    "    tacson_same = sametimes{subj}.*tacsontimes{subj};\n",
    "    ind = find(tacson_same);\n",
    "    fc = corrcoef(subj_data{subj}(:,ind)');\n",
    "    gbc_vectors(3,subj) = mean(fc(265,:)); % left MT connectivity\n",
    "    gbc_vectors(7,subj) = mean(fc(266,:)); % right MT connectivity\n",
    "    \n",
    "    % tACS ON | OPP condition\n",
    "    tacson_opp = opptimes{subj}.*tacsontimes{subj};\n",
    "    ind = find(tacson_opp);\n",
    "    fc = corrcoef(subj_data{subj}(:,ind)');\n",
    "    gbc_vectors(4,subj) = mean(fc(265,:)); % left MT connectivity\n",
    "    gbc_vectors(8,subj) = mean(fc(266,:));\n",
    "end"
   ]
  },
  {
   "cell_type": "code",
   "execution_count": 39,
   "metadata": {
    "collapsed": false
   },
   "outputs": [],
   "source": [
    "% Define group names\n",
    "adapt = {'same';'opp';'same';'opp';'same';'opp';'same';'opp';};\n",
    "adapt = repmat(adapt,10,1);\n",
    "tacs = {'tacs_off';'tacs_off'; 'tacs_on'; 'tacs_on';'tacs_off';'tacs_off'; 'tacs_on'; 'tacs_on';};\n",
    "tacs = repmat(tacs,10,1);\n",
    "hemi = {'left';'left';'left';'left';'right';'right';'right';'right'};\n",
    "hemi = repmat(hemi,10,1);\n",
    "subjs = reshape(repmat(1:10',8,1),[80,1]);\n",
    "\n",
    "indata = reshape(gbc_vectors,[80,1]);\n",
    "[p,tbl] = anovan(indata,{adapt,tacs,hemi,subjs}, 'model', 'full','random',[4], 'varnames', {'adapt','tacs','hemi','subjs'});\n",
    "gbc_interactionF = tbl{12,6};\n",
    "gbc_interactionP = tbl{12,7};\n"
   ]
  },
  {
   "cell_type": "code",
   "execution_count": 41,
   "metadata": {
    "collapsed": false
   },
   "outputs": [
    {
     "name": "stdout",
     "output_type": "stream",
     "text": [
      "Interaction of GBC of MTs\n",
      "p = 0.14096\n"
     ]
    }
   ],
   "source": [
    "disp('Interaction of GBC of MTs')\n",
    "disp(['p = ' num2str(gbc_interactionP)])"
   ]
  }
 ],
 "metadata": {
  "kernelspec": {
   "display_name": "Matlab",
   "language": "matlab",
   "name": "matlab"
  },
  "language_info": {
   "codemirror_mode": "octave",
   "file_extension": ".m",
   "help_links": [
    {
     "text": "MetaKernel Magics",
     "url": "https://github.com/calysto/metakernel/blob/master/metakernel/magics/README.md"
    }
   ],
   "mimetype": "text/x-matlab",
   "name": "matlab",
   "version": "0.8.0"
  }
 },
 "nbformat": 4,
 "nbformat_minor": 0
}
